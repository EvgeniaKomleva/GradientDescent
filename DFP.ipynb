{
 "cells": [
  {
   "cell_type": "markdown",
   "metadata": {},
   "source": [
    "## Общая схема квазиньютоновских методов\n",
    "\n",
    "```python\n",
    "def QuasiNewtonMethod(f, x0, epsilon, **kwargs):\n",
    "    \n",
    "    x = x0\n",
    "    \n",
    "    H = I\n",
    "    \n",
    "    while True:\n",
    "        \n",
    "        h = -H.dot(grad_f(x))\n",
    "        \n",
    "        if StopCriterion(x, f, h, **kwargs) < epsilon:\n",
    "            \n",
    "            break\n",
    "            \n",
    "        alpha = SelectStepSize(x, h, f, **kwargs)\n",
    "            \n",
    "        x = x + alpha * h\n",
    "            \n",
    "        H = UpdateH(H, f(x), grad_f(x))\n",
    "            \n",
    "    return x\n",
    "```"
   ]
  },
  {
   "cell_type": "markdown",
   "metadata": {},
   "source": [
    "## DFP (Davidon-Fletcher-Powell)\n",
    "\n",
    "$$\n",
    "B_{k+1} = (I - \\rho_k y_k s^{\\top}_k)B_k(I - \\rho_k s_ky^{\\top}_k) + \\rho_k y_k y^{\\top}_k,\n",
    "$$\n",
    "\n",
    "где $\\rho_k = \\dfrac{1}{y^{\\top}_k s_k}$,\n",
    "\n",
    "или с помощью формулы Шермана-Морисона-Вудбери\n",
    "\n",
    "$$\n",
    "B^{-1}_{k+1} = H_{k+1} = H_k - \\dfrac{H_ky_k y_k^{\\top}H_k}{y^{\\top}_kH_ky_k} + \\dfrac{s_ks^{\\top}_k}{y^{\\top}_ks_k}\n",
    "$$\n",
    "\n",
    "**Вопрос:** какой ранг у разности матриц $B_{k+1} (H_{k+1})$ и $B_{k} (H_{k})$?"
   ]
  },
  {
   "cell_type": "markdown",
   "metadata": {},
   "source": [
    "### Вывод\n",
    "\n",
    "Общая идея квазиньютоновских методов: \n",
    "\n",
    "вместо полного пересчёта гессиана на каждой итерации обновлять \n",
    "\n",
    "текущую его аппроксимацию с помощью легко вычислимого \n",
    "\n",
    "преобразования"
   ]
  },
  {
   "cell_type": "code",
   "execution_count": 2,
   "metadata": {},
   "outputs": [
    {
     "name": "stdout",
     "output_type": "stream",
     "text": [
      "Наилучшая точка минимума: [0.  1.5]\n",
      "Количество итераций: 1\n"
     ]
    }
   ],
   "source": [
    "import numpy as np\n",
    "import numpy.linalg as ln\n",
    "import scipy as sp\n",
    "import scipy.optimize\n",
    "\n",
    "\n",
    "# Функция\n",
    "def f(x):\n",
    "    return x[0]**2 + x[1]**2- 3*x[1]\n",
    "\n",
    "\n",
    "# Производная\n",
    "def f1(x):\n",
    "    return np.array([2 * x[0],2*x[1] - 3])\n",
    "\n",
    "\n",
    "def dfp_method(f, fprime, x0, maxiter=None, epsi=10e-3):\n",
    "    \n",
    "    if maxiter is None:\n",
    "        maxiter = len(x0) * 200\n",
    "\n",
    "    k = 0\n",
    "    gfk = fprime(x0)\n",
    "    N = len(x0)\n",
    "    I = np.eye(N, dtype=int)\n",
    "    Hk = I\n",
    "    xk = x0\n",
    "   \n",
    "    while ln.norm(gfk) > epsi and k < maxiter:\n",
    "        \n",
    "        pk = -np.dot(Hk, gfk)\n",
    "        \n",
    "\n",
    "        line_search = sp.optimize.line_search(f, f1, xk, pk)\n",
    "        alpha_k = line_search[0]\n",
    "        \n",
    "        xkp1 = xk + alpha_k * pk\n",
    "        sk = xkp1 - xk\n",
    "        xk = xkp1\n",
    "        \n",
    "        gfkp1 = fprime(xkp1)\n",
    "        yk = gfkp1 - gfk\n",
    "        gfk = gfkp1\n",
    "        \n",
    "        k += 1\n",
    "        \n",
    "        ro = 1.0 / (np.dot(yk, sk))\n",
    "        ro1 = 1.0 / (np.dot(np.dot(Hk, yk), yk))\n",
    "        ro2 =  yk[:, np.newaxis] * yk[np.newaxis, :]\n",
    "        A = np.dot(Hk, np.dot(ro2, Hk))\n",
    "        Hk= Hk-np.dot(ro1,A)+ (ro * sk[:, np.newaxis] * sk[np.newaxis, :])\n",
    "        \n",
    "    return (xk, k)\n",
    "\n",
    "\n",
    "result, k = dfp_method(f, f1, np.array([1, 1]))# начальная точка 1 1 \n",
    "\n",
    "print('Наилучшая точка минимума: %s' % (result))\n",
    "print('Количество итераций: %s' % (k))"
   ]
  },
  {
   "cell_type": "code",
   "execution_count": null,
   "metadata": {},
   "outputs": [],
   "source": []
  }
 ],
 "metadata": {
  "kernelspec": {
   "display_name": "Python 3",
   "language": "python",
   "name": "python3"
  },
  "language_info": {
   "codemirror_mode": {
    "name": "ipython",
    "version": 3
   },
   "file_extension": ".py",
   "mimetype": "text/x-python",
   "name": "python",
   "nbconvert_exporter": "python",
   "pygments_lexer": "ipython3",
   "version": "3.6.3"
  }
 },
 "nbformat": 4,
 "nbformat_minor": 2
}
