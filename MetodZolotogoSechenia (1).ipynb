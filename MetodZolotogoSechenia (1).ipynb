{
 "cells": [
  {
   "cell_type": "markdown",
   "metadata": {},
   "source": [
    "# Теория\n",
    "Пусть дана функция $y=f(x)$, необходимо найти минимум этой функции на заданном отрезке $[a, \\quad b]$ (задача максимума решается аналогично). Предполагается, что производная функции либо не существует, либо сложно вычислима, что не позволяет свести задачу к поиску корней производной $f'(x)=0$.\n",
    "\n",
    "Метод заключается в построении последовательности отрезков $[a_n, \\quad b_n]$, стаягивающихся к точке $x^{\\ast} = argmin \\{ f(x):\\: \\quad x \\quad \\in \\quad [a,\\quad b] \\}.$"
   ]
  },
  {
   "cell_type": "markdown",
   "metadata": {},
   "source": [
    "Говорят, что точка x осуществляет золотое сечение отрезка $[a, \\quad b]$, если\n",
    "\n",
    "$\\frac{b-a}{b-x}=\\frac{b-x}{x-a}=\\phi=\\frac{1+\\sqrt{5} }{2}$\n",
    "\n",
    "В качестве x_1 и x_2 выберем точку золотого сечения отрезка и симметричную ей. Если $a<x_1<x_2<b$, то при указанном выборе точек получаем, что x_1 - точка золотого сечения отрезка $[a, \\quad x_2], а x_2 $- точка золотого сечения отрезка $[x_1, \\quad b].$ Таким образом, на каждом шаге, кроме первого, необходимо вычислять значение только в одной точке, вторая берется из предыдущего шага.\n",
    "\n"
   ]
  },
  {
   "cell_type": "code",
   "execution_count": 71,
   "metadata": {},
   "outputs": [
    {
     "name": "stdout",
     "output_type": "stream",
     "text": [
      "Введите левый конец отрезка:\n",
      "2\n",
      "Введите правый конец отрезка:\n",
      "5\n",
      "На отрезке[ 2 5 ]\n",
      "минимум в точке  2.999966946519508 значение функции: 1.0925325726486882e-09\n"
     ]
    }
   ],
   "source": [
    "import math \n",
    "\n",
    "def f(x): #исследуемая функция\n",
    "    return (x-3)*(x-3)\n",
    "\n",
    "e = 0.001 #достаточно малая положительная константа, погрешность метода\n",
    "k = (1+math.sqrt(5))/2# константа золотого сечения \n",
    "print(\"Введите левый конец отрезка:\")\n",
    "a = int(input())\n",
    "print(\"Введите правый конец отрезка:\")\n",
    "b = int(input())\n",
    "print (\"На отрезке[\", a,b, \"]\")\n",
    "x_1= b-(b-a)/k\n",
    "x_2 = a+(b-a)/k\n",
    "x_list =[]\n",
    "y_list =[]\n",
    "while ((b-a)/2>=e):\n",
    "\n",
    "    if f(x_1) > f(x_2):\n",
    "        a=x_1\n",
    "        x_1=x_2\n",
    "        x_2 = b-(x_1-a)\n",
    "    if f(x_1) < f(x_2): \n",
    "        b = x_2\n",
    "        x_2 = x_1\n",
    "        x_1 = a + (b-x_2)\n",
    "    x_list.append((a+b)/2)    \n",
    "    y_list.append(f((a+b)/2))\n",
    "    \n",
    "x = (a+b)/2 \n",
    "print (\"минимум в точке \", x,\"значение функции:\", f(x) )\n",
    "#print (x_list, y_list)"
   ]
  },
  {
   "cell_type": "markdown",
   "metadata": {},
   "source": [
    "# График\n"
   ]
  },
  {
   "cell_type": "code",
   "execution_count": 72,
   "metadata": {},
   "outputs": [
    {
     "data": {
      "image/png": "[encoded data removed]",
      "text/plain": [
       "<Figure size 432x288 with 1 Axes>"
      ]
     },
     "metadata": {
      "needs_background": "light"
     },
     "output_type": "display_data"
    }
   ],
   "source": [
    "import matplotlib\n",
    "import matplotlib.pyplot as plt\n",
    "import numpy as np\n",
    "%matplotlib inline\n",
    "\n",
    "#plt.plot(x_list)\n",
    "x = np.arange(2.9, 3.1, 0.001)#здесь первые два числа рассматриваемый промежуток\n",
    "s =  (x-3)*(x-3)#исследуемая функция\n",
    "\n",
    "fig, ax = plt.subplots()\n",
    "ax.plot(x, s)\n",
    "plt.plot(x_list, y_list)\n",
    "ax.set(xlabel='x', ylabel='y',\n",
    "       title='Иллюстрация метода золотого сечения')\n",
    "ax.grid()\n",
    "\n",
    "plt.show()"
   ]
  },
  {
   "cell_type": "code",
   "execution_count": null,
   "metadata": {},
   "outputs": [],
   "source": []
  }
 ],
 "metadata": {
  "kernelspec": {
   "display_name": "Python 3",
   "language": "python",
   "name": "python3"
  },
  "language_info": {
   "codemirror_mode": {
    "name": "ipython",
    "version": 3
   },
   "file_extension": ".py",
   "mimetype": "text/x-python",
   "name": "python",
   "nbconvert_exporter": "python",
   "pygments_lexer": "ipython3",
   "version": "3.7.4"
  }
 },
 "nbformat": 4,
 "nbformat_minor": 2
}
